{
  "nbformat": 4,
  "nbformat_minor": 0,
  "metadata": {
    "colab": {
      "provenance": [],
      "collapsed_sections": [],
      "mount_file_id": "183c7b1fWfPGO9KMY8WZ0wHR7hpqAkmuS",
      "authorship_tag": "ABX9TyPBrqcqbRnaSJOvllBcHnQq",
      "include_colab_link": true
    },
    "kernelspec": {
      "name": "python3",
      "display_name": "Python 3"
    },
    "language_info": {
      "name": "python"
    }
  },
  "cells": [
    {
      "cell_type": "markdown",
      "metadata": {
        "id": "view-in-github",
        "colab_type": "text"
      },
      "source": [
        "<a href=\"https://colab.research.google.com/github/felixM2020/ACT_School_DA/blob/main/Buses_Analysis.ipynb\" target=\"_parent\"><img src=\"https://colab.research.google.com/assets/colab-badge.svg\" alt=\"Open In Colab\"/></a>"
      ]
    },
    {
      "cell_type": "markdown",
      "source": [
        "#Buses Data Analysis"
      ],
      "metadata": {
        "id": "KtNVppF7Y7RY"
      }
    },
    {
      "cell_type": "markdown",
      "source": [
        "References:\n"
      ],
      "metadata": {
        "id": "kYWUmLY1efXd"
      }
    },
    {
      "cell_type": "markdown",
      "source": [
        "## Data Cleaning"
      ],
      "metadata": {
        "id": "Ve6dmPgFZ2E7"
      }
    },
    {
      "cell_type": "code",
      "source": [
        "import pandas as pd\n",
        "\n",
        "buses = pd.read_csv('/content/drive/MyDrive/CSV/ACT_School_Bus_Services.csv')\n",
        "\n",
        "buses.info()\n"
      ],
      "metadata": {
        "colab": {
          "base_uri": "https://localhost:8080/"
        },
        "id": "VebeuVi0ZCMk",
        "outputId": "591b6deb-d266-4df3-f739-ef20f75fcc7b"
      },
      "execution_count": null,
      "outputs": [
        {
          "output_type": "stream",
          "name": "stdout",
          "text": [
            "<class 'pandas.core.frame.DataFrame'>\n",
            "RangeIndex: 511 entries, 0 to 510\n",
            "Data columns (total 10 columns):\n",
            " #   Column        Non-Null Count  Dtype \n",
            "---  ------        --------------  ----- \n",
            " 0   RouteNumber   511 non-null    int64 \n",
            " 1   Shift         511 non-null    int64 \n",
            " 2   StartTime     511 non-null    object\n",
            " 3   VehicleStyle  511 non-null    object\n",
            " 4   Description   511 non-null    object\n",
            " 5   Address       511 non-null    object\n",
            " 6   Phone         511 non-null    object\n",
            " 7   School Name   511 non-null    object\n",
            " 8   Website       511 non-null    object\n",
            " 9   Location      511 non-null    object\n",
            "dtypes: int64(2), object(8)\n",
            "memory usage: 40.0+ KB\n"
          ]
        }
      ]
    },
    {
      "cell_type": "markdown",
      "source": [
        "Drop unnessecary columns"
      ],
      "metadata": {
        "id": "sfmjZlWXZf2A"
      }
    },
    {
      "cell_type": "code",
      "source": [
        "buses = buses.drop(['Phone', 'Website', 'Location'], axis =1)\n",
        "\n",
        "buses.info()"
      ],
      "metadata": {
        "colab": {
          "base_uri": "https://localhost:8080/"
        },
        "id": "3tG4HeUgZpnG",
        "outputId": "0c277823-af4d-4318-d4e8-f796560f457f"
      },
      "execution_count": null,
      "outputs": [
        {
          "output_type": "stream",
          "name": "stdout",
          "text": [
            "<class 'pandas.core.frame.DataFrame'>\n",
            "RangeIndex: 511 entries, 0 to 510\n",
            "Data columns (total 7 columns):\n",
            " #   Column        Non-Null Count  Dtype \n",
            "---  ------        --------------  ----- \n",
            " 0   RouteNumber   511 non-null    int64 \n",
            " 1   Shift         511 non-null    int64 \n",
            " 2   StartTime     511 non-null    object\n",
            " 3   VehicleStyle  511 non-null    object\n",
            " 4   Description   511 non-null    object\n",
            " 5   Address       511 non-null    object\n",
            " 6   School Name   511 non-null    object\n",
            "dtypes: int64(2), object(5)\n",
            "memory usage: 28.1+ KB\n"
          ]
        }
      ]
    },
    {
      "cell_type": "markdown",
      "source": [
        "#Transform Description Column"
      ],
      "metadata": {
        "id": "7htHZqaea9o_"
      }
    },
    {
      "cell_type": "markdown",
      "source": [
        "Explore Description"
      ],
      "metadata": {
        "id": "h8SrLqvTbISx"
      }
    },
    {
      "cell_type": "code",
      "source": [
        "buses['Description']"
      ],
      "metadata": {
        "colab": {
          "base_uri": "https://localhost:8080/"
        },
        "id": "qh6vL3pkbCIQ",
        "outputId": "61b318cf-9a89-4bef-ed5b-db5fe9f36271"
      },
      "execution_count": null,
      "outputs": [
        {
          "output_type": "execute_result",
          "data": {
            "text/plain": [
              "0                       Forde, Bonner, Amaroo, Ngunnawal\n",
              "1                               Gungahlin Place Non Stop\n",
              "2                   Ngunnawal, Moncrieff, Amaroo, Bonner\n",
              "3                              Bonner, Amaroo, Ngunnawal\n",
              "4                               Gungahlin Place Non Stop\n",
              "                             ...                        \n",
              "506            Gordon, Banks, Conder, Lanyon Marketplace\n",
              "507     Calwell, Richardson, Chisholm, Macarthur, Fadden\n",
              "508    Denman Prospect, Wright, Coombs, Duffy, Stirli...\n",
              "509                           Woden Interchange Non Stop\n",
              "510                                     Ainslie, Hackett\n",
              "Name: Description, Length: 511, dtype: object"
            ]
          },
          "metadata": {},
          "execution_count": 4
        }
      ]
    },
    {
      "cell_type": "markdown",
      "source": [
        "Create and apply function to change description to an array of Suburbs."
      ],
      "metadata": {
        "id": "tH-o5zhwaJQT"
      }
    },
    {
      "cell_type": "code",
      "source": [
        "non_valid_locs = ['Cooleman', 'Kippax']\n",
        "\n",
        "def valid_loc(loc):\n",
        "    return len(loc) > 4 and (loc not in non_valid_locs)\n",
        "\n",
        "def non_stop_parse(route, out):\n",
        "    place = route.strip().split(' ')[0]\n",
        "    out.append(place)\n",
        "    \n",
        "def multiple_stop_parse(route,out):\n",
        "    places = route.split(',')\n",
        "    for place in places:\n",
        "        place = place.strip()\n",
        "        location = place.split(' ')[0]\n",
        "        if valid_loc(location):\n",
        "            out.append(location)\n",
        "\n",
        "def parse_route(cell):\n",
        "    out = []\n",
        "    if 'Non Stop' in cell:\n",
        "        non_stop_parse(cell, out)\n",
        "    else:\n",
        "        multiple_stop_parse(cell, out)\n",
        "       \n",
        "    return  out\n",
        "\n",
        "buses['Route'] = buses['Description'].apply(lambda x : parse_route(x))\n",
        "\n",
        "buses['Route']"
      ],
      "metadata": {
        "colab": {
          "base_uri": "https://localhost:8080/"
        },
        "id": "ZwuFPvXvaVJe",
        "outputId": "ec1452a4-4ba3-48eb-b426-188736ec7e9e"
      },
      "execution_count": null,
      "outputs": [
        {
          "output_type": "execute_result",
          "data": {
            "text/plain": [
              "0                     [Forde, Bonner, Amaroo, Ngunnawal]\n",
              "1                                            [Gungahlin]\n",
              "2                 [Ngunnawal, Moncrieff, Amaroo, Bonner]\n",
              "3                            [Bonner, Amaroo, Ngunnawal]\n",
              "4                                            [Gungahlin]\n",
              "                             ...                        \n",
              "506                      [Gordon, Banks, Conder, Lanyon]\n",
              "507    [Calwell, Richardson, Chisholm, Macarthur, Fad...\n",
              "508    [Denman, Wright, Coombs, Duffy, Stirling, Wara...\n",
              "509                                              [Woden]\n",
              "510                                   [Ainslie, Hackett]\n",
              "Name: Route, Length: 511, dtype: object"
            ]
          },
          "metadata": {},
          "execution_count": 5
        }
      ]
    },
    {
      "cell_type": "markdown",
      "source": [
        "###Clean Time"
      ],
      "metadata": {
        "id": "92u_YDpHb301"
      }
    },
    {
      "cell_type": "code",
      "source": [
        "buses['StartTime']\n",
        "\n"
      ],
      "metadata": {
        "colab": {
          "base_uri": "https://localhost:8080/"
        },
        "id": "xfur_2uccC2h",
        "outputId": "1d21618c-94f4-4fbd-947e-d43f3faac6bc"
      },
      "execution_count": null,
      "outputs": [
        {
          "output_type": "execute_result",
          "data": {
            "text/plain": [
              "0      7:53:00 AM\n",
              "1      8:33:00 AM\n",
              "2      7:23:00 AM\n",
              "3      8:05:00 AM\n",
              "4      3:44:00 PM\n",
              "          ...    \n",
              "506    3:10:00 PM\n",
              "507    3:30:00 PM\n",
              "508    3:20:00 PM\n",
              "509    3:28:00 PM\n",
              "510    3:11:00 PM\n",
              "Name: StartTime, Length: 511, dtype: object"
            ]
          },
          "metadata": {},
          "execution_count": 6
        }
      ]
    },
    {
      "cell_type": "markdown",
      "source": [
        "Transform start time to minutes from start of the day"
      ],
      "metadata": {
        "id": "1xtgZRsAcTJN"
      }
    },
    {
      "cell_type": "code",
      "source": [
        "def convert_time_minutes(time):\n",
        "  time = time.strip()\n",
        "  out = 0\n",
        "  intervals = time.split(':')\n",
        "  hours = intervals[0]\n",
        "  out += (int(hours) * 60)\n",
        "  minutes = intervals[1]\n",
        "  out += int(minutes)\n",
        "\n",
        "  if time[-2:] == 'PM':\n",
        "    out += (60 * 12)\n",
        "\n",
        "  return out\n",
        "\n",
        " \n",
        "\n",
        "buses['StartTime'] = buses['StartTime'].apply(convert_time_minutes)\n",
        "buses['StartTime']\n",
        "    "
      ],
      "metadata": {
        "colab": {
          "base_uri": "https://localhost:8080/"
        },
        "id": "ucOHKAPXc61c",
        "outputId": "4fb21cce-c9c2-422f-c2ec-58a816497035"
      },
      "execution_count": null,
      "outputs": [
        {
          "output_type": "execute_result",
          "data": {
            "text/plain": [
              "0      473\n",
              "1      513\n",
              "2      443\n",
              "3      485\n",
              "4      944\n",
              "      ... \n",
              "506    910\n",
              "507    930\n",
              "508    920\n",
              "509    928\n",
              "510    911\n",
              "Name: StartTime, Length: 511, dtype: int64"
            ]
          },
          "metadata": {},
          "execution_count": 7
        }
      ]
    },
    {
      "cell_type": "markdown",
      "source": [
        "##Join Schools Data With Buses\n",
        "School data is non government school data"
      ],
      "metadata": {
        "id": "XL5CJ6P8jDSx"
      }
    },
    {
      "cell_type": "markdown",
      "source": [
        "Open all school data files and find difference in columns"
      ],
      "metadata": {
        "id": "6ZjHtVP362d2"
      }
    },
    {
      "cell_type": "code",
      "source": [
        "gov_college = pd.read_csv('/content/drive/MyDrive/CSV/Schools_Government_College.csv')\n",
        "gov_primary = pd.read_csv('/content/drive/MyDrive/CSV/Schools_Government_Primary.csv')\n",
        "gov_secondary = pd.read_csv('/content/drive/MyDrive/CSV/Schools_Government_Secondary.csv')\n",
        "non_gov = pd.read_csv('/content/drive/MyDrive/CSV/Schools_Non_Government.csv')\n",
        "gov_other = pd.read_csv('/content/drive/MyDrive/CSV/Schools_Other_Government_Schools.csv')\n",
        "schools_list = [gov_college, gov_primary, gov_secondary, non_gov, gov_other]\n",
        "out = {}\n",
        "for s in schools_list:\n",
        "  for col in s.columns:\n",
        "    if col in out.keys():\n",
        "      out[col] += 1\n",
        "    else:\n",
        "      out[col] = 1\n",
        "print(out)"
      ],
      "metadata": {
        "colab": {
          "base_uri": "https://localhost:8080/"
        },
        "id": "p6SuH8lI3-uc",
        "outputId": "6af41d77-efae-4086-a4db-8b60123e652d"
      },
      "execution_count": null,
      "outputs": [
        {
          "output_type": "stream",
          "name": "stdout",
          "text": [
            "{'X': 5, 'Y': 5, 'GOVERNMENT': 5, 'TYPE': 5, 'PEA': 5, 'SECTION': 5, 'BLOCK': 5, 'STREET': 5, 'SUBURB': 5, 'STATE': 5, 'POSTCODE': 5, 'SCHOOLCODE': 5, 'DESCRIPTION': 5, 'WEBSITE': 5, 'EMAIL': 5, 'PHONE': 5, 'DATASET': 5, 'OBJECTID': 5, 'SCHOOL_NAME': 5, 'BLOCK_KEY': 5, 'DEEWR_SCHOOL_ID': 5, 'MY_SCHOOL_WEBSITE': 5, 'LEVEL_': 5, 'APPLY_NOW': 5, 'STATUS': 5, 'OBJECTID_1': 2}\n"
          ]
        }
      ]
    },
    {
      "cell_type": "markdown",
      "source": [
        "Delete object_id1 columns"
      ],
      "metadata": {
        "id": "wuV1zg7n7HM2"
      }
    },
    {
      "cell_type": "code",
      "source": [
        "for s in schools_list:\n",
        "  try:\n",
        "    s = s.drop('OBJECTID_1')\n",
        "  except:\n",
        "    pass"
      ],
      "metadata": {
        "id": "1GlJ9__y7_Kb"
      },
      "execution_count": null,
      "outputs": []
    },
    {
      "cell_type": "markdown",
      "source": [
        "Join all schools\n"
      ],
      "metadata": {
        "id": "qBcIfROG8csz"
      }
    },
    {
      "cell_type": "code",
      "source": [
        "schools = pd.concat(schools_list)\n",
        "\n",
        "schools = schools[['SCHOOL_NAME', 'SUBURB', 'TYPE', 'X', 'Y', 'GOVERNMENT']]\n",
        "\n",
        "schools['School Name'] = schools['SCHOOL_NAME']\n",
        "\n",
        "schools = schools.drop('SCHOOL_NAME', axis = 1)\n",
        "\n",
        "buses = buses.merge(schools, on = 'School Name', how = 'inner')\n",
        "\n"
      ],
      "metadata": {
        "id": "2feaq_yIjHsU"
      },
      "execution_count": null,
      "outputs": []
    },
    {
      "cell_type": "code",
      "source": [
        "buses.columns"
      ],
      "metadata": {
        "id": "7TTjSWvHk1PX",
        "colab": {
          "base_uri": "https://localhost:8080/"
        },
        "outputId": "d0675c5b-226b-442c-db0f-51efcbf1d8c9"
      },
      "execution_count": null,
      "outputs": [
        {
          "output_type": "execute_result",
          "data": {
            "text/plain": [
              "Index(['RouteNumber', 'Shift', 'StartTime', 'VehicleStyle', 'Description',\n",
              "       'Address', 'School Name', 'Route', 'SUBURB', 'TYPE', 'X', 'Y',\n",
              "       'GOVERNMENT'],\n",
              "      dtype='object')"
            ]
          },
          "metadata": {},
          "execution_count": 11
        }
      ]
    },
    {
      "cell_type": "markdown",
      "source": [
        "## Data Exploration"
      ],
      "metadata": {
        "id": "6rStX3_XiOiD"
      }
    },
    {
      "cell_type": "markdown",
      "source": [
        "Explore Government vs Non Government Schools of vehicles styles\n",
        "\n",
        "\n"
      ],
      "metadata": {
        "id": "rXmKU4SQlC1z"
      }
    },
    {
      "cell_type": "code",
      "source": [
        "import matplotlib.pyplot as plt\n",
        "import matplotlib.patches as mpatches\n",
        "import seaborn as sns\n",
        "\n",
        "counts = buses.groupby(['GOVERNMENT']).size()\n",
        "print(counts)\n",
        "fig, ax = plt.subplots()\n",
        "plt.rcParams[\"figure.figsize\"] = (2, 5)\n",
        "bus_bar = ax.bar( x= counts.index.sort_values(ascending = False), height = counts.sort_values(ascending = True).array,\n",
        "                    color = ['g', 'r'], width = 0.9, linewidth = 0)\n",
        "plt.xlabel('Government School Route?')\n",
        "plt.ylabel('Total #')\n",
        "plt.text(0,160,'151', horizontalalignment='center',    verticalalignment='center', style = 'italic')\n",
        "plt.text(1,343,'336', horizontalalignment='center',    verticalalignment='center', style = 'italic')\n",
        "\n",
        "\n"
      ],
      "metadata": {
        "colab": {
          "base_uri": "https://localhost:8080/",
          "height": 423
        },
        "id": "jf1CzUA6igFj",
        "outputId": "fc52553e-5322-4d64-aa4d-c3a4cac36b0e"
      },
      "execution_count": null,
      "outputs": [
        {
          "output_type": "stream",
          "name": "stdout",
          "text": [
            "GOVERNMENT\n",
            "No     336\n",
            "Yes    151\n",
            "dtype: int64\n"
          ]
        },
        {
          "output_type": "execute_result",
          "data": {
            "text/plain": [
              "Text(1, 343, '336')"
            ]
          },
          "metadata": {},
          "execution_count": 25
        },
        {
          "output_type": "display_data",
          "data": {
            "text/plain": [
              "<Figure size 288x360 with 1 Axes>"
            ],
            "image/png": "[encoded data removed]"
          },
          "metadata": {
            "needs_background": "light"
          }
        }
      ]
    },
    {
      "cell_type": "code",
      "source": [
        "school_info = buses[['School Name', 'GOVERNMENT']]\n",
        "school_info.drop_duplicates(keep = 'first', inplace = True)\n",
        "\n",
        "school_amounts = school_info.groupby(['GOVERNMENT']).size()\n",
        "school_amounts.sort_values( axis = 0, ascending = True, inplace = True)\n",
        "\n",
        "fig, ax = plt.subplots()\n",
        "plt.rcParams[\"figure.figsize\"] = (4, 5)\n",
        "\n",
        "ax.bar( x = school_amounts.index.sort_values( ascending = False),\n",
        "       height = school_amounts.array,\n",
        "       color = ['g', 'r'], width = 0.9)\n",
        "\n",
        "ax.text(0,29.5,'29', fontsize = 11, style = 'italic',horizontalalignment='center',    verticalalignment='center')\n",
        "ax.text(1, 29.5, '28', fontsize = 11, style = 'italic', horizontalalignment='center',    verticalalignment='center')\n",
        "plt.xlabel('Government School?')\n",
        "plt.ylabel('Total #')\n",
        "\n",
        "plt.plot()\n"
      ],
      "metadata": {
        "colab": {
          "base_uri": "https://localhost:8080/",
          "height": 458
        },
        "id": "h6Hhhc9nydwI",
        "outputId": "6d7f58d3-ae66-42c8-c313-319d2cf84d1f"
      },
      "execution_count": null,
      "outputs": [
        {
          "output_type": "stream",
          "name": "stderr",
          "text": [
            "/usr/local/lib/python3.7/dist-packages/pandas/util/_decorators.py:311: SettingWithCopyWarning: \n",
            "A value is trying to be set on a copy of a slice from a DataFrame\n",
            "\n",
            "See the caveats in the documentation: https://pandas.pydata.org/pandas-docs/stable/user_guide/indexing.html#returning-a-view-versus-a-copy\n",
            "  return func(*args, **kwargs)\n"
          ]
        },
        {
          "output_type": "execute_result",
          "data": {
            "text/plain": [
              "[]"
            ]
          },
          "metadata": {},
          "execution_count": 24
        },
        {
          "output_type": "display_data",
          "data": {
            "text/plain": [
              "<Figure size 288x360 with 1 Axes>"
            ],
            "image/png": "[encoded data removed]"
          },
          "metadata": {
            "needs_background": "light"
          }
        }
      ]
    },
    {
      "cell_type": "markdown",
      "source": [
        "Look at most visited schools"
      ],
      "metadata": {
        "id": "7imkfaAsP5fh"
      }
    },
    {
      "cell_type": "markdown",
      "source": [
        "Transform buses data for analysis"
      ],
      "metadata": {
        "id": "P8aphMtmIwDo"
      }
    },
    {
      "cell_type": "code",
      "source": [
        "top_schools = buses.groupby(['School Name']).size().sort_values(ascending = False)[:25]\n",
        "top_schools = pd.DataFrame(top_schools, columns = [ 'Bus Routes'])\n",
        "\n",
        "top_schools_df = schools.merge(top_schools, on = 'School Name', how = 'inner').sort_values(by = 'Bus Routes', ascending = True)"
      ],
      "metadata": {
        "id": "0sY6Lo1pIuYr"
      },
      "execution_count": null,
      "outputs": []
    },
    {
      "cell_type": "markdown",
      "source": [
        "Plot Data"
      ],
      "metadata": {
        "id": "E2ItuYXsI15H"
      }
    },
    {
      "cell_type": "code",
      "source": [
        "colours = {'Yes':'tab:green', 'No':'tab:red'}\n",
        "fig, ax = plt.subplots()\n",
        "plt.rcParams[\"figure.figsize\"] = (10, 9)\n",
        "top_rides = ax.bar( x = top_schools_df['School Name'], height = top_schools_df['Bus Routes'], color = top_schools_df['GOVERNMENT'].map(colours), width = 0.5)\n",
        "red_patch = mpatches.Patch(color='red', label='No')\n",
        "green_patch = mpatches.Patch(color='green', label='Yes')\n",
        "ax.legend(handles=[ green_patch, red_patch], title = 'Government School?')\n",
        "for i, v in enumerate(top_schools_df['Bus Routes']):\n",
        "  ax.text(i,v+0.7,str(v), fontsize = 11, style = 'italic',horizontalalignment='center',    verticalalignment='center')\n",
        "plt.xticks(rotation = 90)"
      ],
      "metadata": {
        "id": "ZclL7rPNlpjZ"
      },
      "execution_count": null,
      "outputs": []
    },
    {
      "cell_type": "markdown",
      "source": [
        "###Schools Distribution"
      ],
      "metadata": {
        "id": "cRWckSFyUG6_"
      }
    },
    {
      "cell_type": "code",
      "source": [
        "fig, (ax1, ax2) = plt.subplots(1,2)\n",
        "gov = schools['GOVERNMENT'] == 'Yes'\n",
        "non_gov = schools['GOVERNMENT'] == 'No'\n",
        "count_gov_schools = schools[gov].groupby('TYPE').size()\n",
        "count_non_gov_schools = schools[non_gov].groupby('TYPE').size()\n",
        "\n",
        "pi1 = ax1.pie( x = count_gov_schools.array, labels = count_gov_schools.index)\n",
        "pi2 = ax2.pie( x = count_non_gov_schools.array, labels = count_non_gov_schools.index)\n",
        "\n",
        "ax1.set_title('Government School Types')\n",
        "ax2.set_title('Non Government School Types')"
      ],
      "metadata": {
        "colab": {
          "base_uri": "https://localhost:8080/",
          "height": 318
        },
        "id": "JcMC34j-RZCu",
        "outputId": "dc781a40-6996-4dbc-d5f1-1368a19e743c"
      },
      "execution_count": null,
      "outputs": [
        {
          "output_type": "execute_result",
          "data": {
            "text/plain": [
              "Text(0.5, 1.0, 'Non Government School Types')"
            ]
          },
          "metadata": {},
          "execution_count": 65
        },
        {
          "output_type": "display_data",
          "data": {
            "text/plain": [
              "<Figure size 720x648 with 2 Axes>"
            ],
            "image/png": "[encoded data removed]"
          },
          "metadata": {}
        }
      ]
    },
    {
      "cell_type": "markdown",
      "source": [
        "Compare Times of Bus Riding"
      ],
      "metadata": {
        "id": "8R1Mj77SUP8C"
      }
    },
    {
      "cell_type": "code",
      "source": [
        "fig, (ax1, ax2) = plt.subplots(1,2)\n",
        "plt.rcParams[\"figure.figsize\"] = (10, 7)\n",
        "gov = buses['GOVERNMENT'] == 'Yes'\n",
        "non_gov = buses['GOVERNMENT'] == 'No'\n",
        "bins = []\n",
        "for i in range(24):\n",
        "  bins.append(i * 60)\n",
        "time_labels = []\n",
        "for i in range(24):\n",
        "  time_labels.append(i)\n",
        "x_ticks = [0,3,6,9,12,15,18,21]\n",
        "ax1.hist(x = buses[gov]['StartTime'], bins = bins, color = 'Green')\n",
        "ax1.set_xticks([x*60 for x in x_ticks])\n",
        "ax1.set_xticklabels(x_ticks)\n",
        "ax1.set_title('Government Bus Start Times')\n",
        "ax2.hist(x = buses[non_gov]['StartTime'], bins = bins, color = 'Red')\n",
        "ax2.set_xticks([x*60 for x in x_ticks])\n",
        "ax2.set_xticklabels(x_ticks)\n",
        "ax2.set_title('Non Government Bus Start Times')\n",
        "\n"
      ],
      "metadata": {
        "colab": {
          "base_uri": "https://localhost:8080/",
          "height": 461
        },
        "id": "XF2tRz06UPrt",
        "outputId": "8e0d9f48-9e05-4eea-f4c0-57f472c1d91a"
      },
      "execution_count": null,
      "outputs": [
        {
          "output_type": "execute_result",
          "data": {
            "text/plain": [
              "Text(0.5, 1.0, 'Non Government Bus Start Times')"
            ]
          },
          "metadata": {},
          "execution_count": 79
        },
        {
          "output_type": "display_data",
          "data": {
            "text/plain": [
              "<Figure size 720x504 with 2 Axes>"
            ],
            "image/png": "[encoded data removed]"
          },
          "metadata": {
            "needs_background": "light"
          }
        }
      ]
    },
    {
      "cell_type": "markdown",
      "source": [
        "Look at primary schools"
      ],
      "metadata": {
        "id": "uNSG5Gr7NLJE"
      }
    },
    {
      "cell_type": "code",
      "source": [
        "primary = buses[buses['TYPE'] == 'Primary'].groupby(['School Name']).size().sort_values(ascending = False)\n",
        "primary = pd.DataFrame(primary,  columns = [ 'Bus Routes'])\n",
        "\n",
        "primary_df = schools.merge(primary, on = 'School Name', how = 'inner').sort_values(by = 'Bus Routes', ascending = True)\n",
        "\n",
        "colours = {'Yes':'tab:green', 'No':'tab:red'}\n",
        "fig, ax = plt.subplots()\n",
        "plt.rcParams[\"figure.figsize\"] = (10, 9)\n",
        "top_rides = ax.bar( x = primary_df['School Name'], height = primary_df['Bus Routes'], color = primary_df['GOVERNMENT'].map(colours), width = 0.5)\n",
        "red_patch = mpatches.Patch(color='red', label='No')\n",
        "green_patch = mpatches.Patch(color='green', label='Yes')\n",
        "ax.legend(handles=[ green_patch, red_patch], title = 'Government School?')\n",
        "for i, v in enumerate(primary_df['Bus Routes']):\n",
        "  ax.text(i,v+0.2,str(v), fontsize = 11, style = 'italic',horizontalalignment='center',    verticalalignment='center')\n",
        "plt.xticks(rotation = 90)\n"
      ],
      "metadata": {
        "colab": {
          "base_uri": "https://localhost:8080/",
          "height": 731
        },
        "id": "H979HmO_NYc1",
        "outputId": "7003f6ea-47ba-4cde-df3c-5fdc8f8c882f"
      },
      "execution_count": null,
      "outputs": [
        {
          "output_type": "execute_result",
          "data": {
            "text/plain": [
              "([0, 1, 2, 3, 4, 5, 6, 7, 8, 9, 10, 11, 12, 13, 14, 15],\n",
              " <a list of 16 Text major ticklabel objects>)"
            ]
          },
          "metadata": {},
          "execution_count": 52
        },
        {
          "output_type": "display_data",
          "data": {
            "text/plain": [
              "<Figure size 720x648 with 1 Axes>"
            ],
            "image/png": "[encoded data removed]"
          },
          "metadata": {
            "needs_background": "light"
          }
        }
      ]
    }
  ]
}