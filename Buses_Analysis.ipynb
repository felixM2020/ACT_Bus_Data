{
  "nbformat": 4,
  "nbformat_minor": 0,
  "metadata": {
    "colab": {
      "provenance": [],
      "collapsed_sections": [],
      "mount_file_id": "https://github.com/felixM2020/ACT_School_DA/blob/main/Buses_Analysis.ipynb",
      "authorship_tag": "ABX9TyPncf/fMmrzLQEluN+w4yr/",
      "include_colab_link": true
    },
    "kernelspec": {
      "name": "python3",
      "display_name": "Python 3"
    },
    "language_info": {
      "name": "python"
    }
  },
  "cells": [
    {
      "cell_type": "markdown",
      "metadata": {
        "id": "view-in-github",
        "colab_type": "text"
      },
      "source": [
        "<a href=\"https://colab.research.google.com/github/felixM2020/ACT_School_DA/blob/main/Buses_Analysis.ipynb\" target=\"_parent\"><img src=\"https://colab.research.google.com/assets/colab-badge.svg\" alt=\"Open In Colab\"/></a>"
      ]
    },
    {
      "cell_type": "markdown",
      "source": [
        "#Buses Data Analysis"
      ],
      "metadata": {
        "id": "KtNVppF7Y7RY"
      }
    },
    {
      "cell_type": "markdown",
      "source": [
        "References:\n"
      ],
      "metadata": {
        "id": "kYWUmLY1efXd"
      }
    },
    {
      "cell_type": "markdown",
      "source": [
        "## Data Cleaning"
      ],
      "metadata": {
        "id": "Ve6dmPgFZ2E7"
      }
    },
    {
      "cell_type": "code",
      "source": [
        "import pandas as pd\n",
        "\n",
        "buses = pd.read_csv('/content/drive/MyDrive/CSV/ACT_School_Bus_Services.csv')\n",
        "\n",
        "buses.info()\n"
      ],
      "metadata": {
        "colab": {
          "base_uri": "https://localhost:8080/"
        },
        "id": "VebeuVi0ZCMk",
        "outputId": "80272c62-8579-47f0-d695-078b660a13a3"
      },
      "execution_count": 50,
      "outputs": [
        {
          "output_type": "stream",
          "name": "stdout",
          "text": [
            "<class 'pandas.core.frame.DataFrame'>\n",
            "RangeIndex: 511 entries, 0 to 510\n",
            "Data columns (total 10 columns):\n",
            " #   Column        Non-Null Count  Dtype \n",
            "---  ------        --------------  ----- \n",
            " 0   RouteNumber   511 non-null    int64 \n",
            " 1   Shift         511 non-null    int64 \n",
            " 2   StartTime     511 non-null    object\n",
            " 3   VehicleStyle  511 non-null    object\n",
            " 4   Description   511 non-null    object\n",
            " 5   Address       511 non-null    object\n",
            " 6   Phone         511 non-null    object\n",
            " 7   School Name   511 non-null    object\n",
            " 8   Website       511 non-null    object\n",
            " 9   Location      511 non-null    object\n",
            "dtypes: int64(2), object(8)\n",
            "memory usage: 40.0+ KB\n"
          ]
        }
      ]
    },
    {
      "cell_type": "markdown",
      "source": [
        "Drop unnessecary columns"
      ],
      "metadata": {
        "id": "sfmjZlWXZf2A"
      }
    },
    {
      "cell_type": "code",
      "source": [
        "buses = buses.drop(['Phone', 'Website', 'Location'], axis =1)\n",
        "\n",
        "buses.info()"
      ],
      "metadata": {
        "colab": {
          "base_uri": "https://localhost:8080/"
        },
        "id": "3tG4HeUgZpnG",
        "outputId": "76dd1af8-160e-451e-f8cf-9eb454d851f5"
      },
      "execution_count": 51,
      "outputs": [
        {
          "output_type": "stream",
          "name": "stdout",
          "text": [
            "<class 'pandas.core.frame.DataFrame'>\n",
            "RangeIndex: 511 entries, 0 to 510\n",
            "Data columns (total 7 columns):\n",
            " #   Column        Non-Null Count  Dtype \n",
            "---  ------        --------------  ----- \n",
            " 0   RouteNumber   511 non-null    int64 \n",
            " 1   Shift         511 non-null    int64 \n",
            " 2   StartTime     511 non-null    object\n",
            " 3   VehicleStyle  511 non-null    object\n",
            " 4   Description   511 non-null    object\n",
            " 5   Address       511 non-null    object\n",
            " 6   School Name   511 non-null    object\n",
            "dtypes: int64(2), object(5)\n",
            "memory usage: 28.1+ KB\n"
          ]
        }
      ]
    },
    {
      "cell_type": "markdown",
      "source": [
        "#Transform Description Column"
      ],
      "metadata": {
        "id": "7htHZqaea9o_"
      }
    },
    {
      "cell_type": "markdown",
      "source": [
        "Explore Description"
      ],
      "metadata": {
        "id": "h8SrLqvTbISx"
      }
    },
    {
      "cell_type": "code",
      "source": [
        "buses['Description']"
      ],
      "metadata": {
        "colab": {
          "base_uri": "https://localhost:8080/"
        },
        "id": "qh6vL3pkbCIQ",
        "outputId": "2a30fa99-b8f0-4f51-8ddf-5e5960eeb805"
      },
      "execution_count": 52,
      "outputs": [
        {
          "output_type": "execute_result",
          "data": {
            "text/plain": [
              "0                       Forde, Bonner, Amaroo, Ngunnawal\n",
              "1                               Gungahlin Place Non Stop\n",
              "2                   Ngunnawal, Moncrieff, Amaroo, Bonner\n",
              "3                              Bonner, Amaroo, Ngunnawal\n",
              "4                               Gungahlin Place Non Stop\n",
              "                             ...                        \n",
              "506            Gordon, Banks, Conder, Lanyon Marketplace\n",
              "507     Calwell, Richardson, Chisholm, Macarthur, Fadden\n",
              "508    Denman Prospect, Wright, Coombs, Duffy, Stirli...\n",
              "509                           Woden Interchange Non Stop\n",
              "510                                     Ainslie, Hackett\n",
              "Name: Description, Length: 511, dtype: object"
            ]
          },
          "metadata": {},
          "execution_count": 52
        }
      ]
    },
    {
      "cell_type": "markdown",
      "source": [
        "Create and apply function to change description to an array of Suburbs."
      ],
      "metadata": {
        "id": "tH-o5zhwaJQT"
      }
    },
    {
      "cell_type": "code",
      "source": [
        "non_valid_locs = ['Cooleman', 'Kippax']\n",
        "\n",
        "def valid_loc(loc):\n",
        "    return len(loc) > 4 and (loc not in non_valid_locs)\n",
        "\n",
        "def non_stop_parse(route, out):\n",
        "    place = route.strip().split(' ')[0]\n",
        "    out.append(place)\n",
        "    \n",
        "def multiple_stop_parse(route,out):\n",
        "    places = route.split(',')\n",
        "    for place in places:\n",
        "        place = place.strip()\n",
        "        location = place.split(' ')[0]\n",
        "        if valid_loc(location):\n",
        "            out.append(location)\n",
        "\n",
        "def parse_route(cell):\n",
        "    out = []\n",
        "    if 'Non Stop' in cell:\n",
        "        non_stop_parse(cell, out)\n",
        "    else:\n",
        "        multiple_stop_parse(cell, out)\n",
        "       \n",
        "    return  out\n",
        "\n",
        "buses['Route'] = buses['Description'].apply(lambda x : parse_route(x))\n",
        "\n",
        "buses['Route']"
      ],
      "metadata": {
        "colab": {
          "base_uri": "https://localhost:8080/"
        },
        "id": "ZwuFPvXvaVJe",
        "outputId": "23d86620-2549-4d40-abdc-875a643fdadc"
      },
      "execution_count": 53,
      "outputs": [
        {
          "output_type": "execute_result",
          "data": {
            "text/plain": [
              "0                     [Forde, Bonner, Amaroo, Ngunnawal]\n",
              "1                                            [Gungahlin]\n",
              "2                 [Ngunnawal, Moncrieff, Amaroo, Bonner]\n",
              "3                            [Bonner, Amaroo, Ngunnawal]\n",
              "4                                            [Gungahlin]\n",
              "                             ...                        \n",
              "506                      [Gordon, Banks, Conder, Lanyon]\n",
              "507    [Calwell, Richardson, Chisholm, Macarthur, Fad...\n",
              "508    [Denman, Wright, Coombs, Duffy, Stirling, Wara...\n",
              "509                                              [Woden]\n",
              "510                                   [Ainslie, Hackett]\n",
              "Name: Route, Length: 511, dtype: object"
            ]
          },
          "metadata": {},
          "execution_count": 53
        }
      ]
    },
    {
      "cell_type": "markdown",
      "source": [
        "###Clean Time"
      ],
      "metadata": {
        "id": "92u_YDpHb301"
      }
    },
    {
      "cell_type": "code",
      "source": [
        "buses['StartTime']\n",
        "\n"
      ],
      "metadata": {
        "colab": {
          "base_uri": "https://localhost:8080/"
        },
        "id": "xfur_2uccC2h",
        "outputId": "b57db18f-406f-41fc-dc6d-8c0dd67f52a4"
      },
      "execution_count": 54,
      "outputs": [
        {
          "output_type": "execute_result",
          "data": {
            "text/plain": [
              "0      7:53:00 AM\n",
              "1      8:33:00 AM\n",
              "2      7:23:00 AM\n",
              "3      8:05:00 AM\n",
              "4      3:44:00 PM\n",
              "          ...    \n",
              "506    3:10:00 PM\n",
              "507    3:30:00 PM\n",
              "508    3:20:00 PM\n",
              "509    3:28:00 PM\n",
              "510    3:11:00 PM\n",
              "Name: StartTime, Length: 511, dtype: object"
            ]
          },
          "metadata": {},
          "execution_count": 54
        }
      ]
    },
    {
      "cell_type": "markdown",
      "source": [
        "Transform start time to minutes from start of the day"
      ],
      "metadata": {
        "id": "1xtgZRsAcTJN"
      }
    },
    {
      "cell_type": "code",
      "source": [
        "def convert_time_minutes(time):\n",
        "  time = time.strip()\n",
        "  out = 0\n",
        "  intervals = time.split(':')\n",
        "  hours = intervals[0]\n",
        "  out += (int(hours) * 60)\n",
        "  minutes = intervals[1]\n",
        "  out += int(minutes)\n",
        "\n",
        "  if time[-2:] == 'PM':\n",
        "    out += (60 * 12)\n",
        "\n",
        "  return out\n",
        "\n",
        " \n",
        "\n",
        "buses['StartTime'] = buses['StartTime'].apply(convert_time_minutes)\n",
        "buses['StartTime']\n",
        "    "
      ],
      "metadata": {
        "colab": {
          "base_uri": "https://localhost:8080/"
        },
        "id": "ucOHKAPXc61c",
        "outputId": "ec3e1d2d-1a7f-4c48-e905-d2658093e3c4"
      },
      "execution_count": 55,
      "outputs": [
        {
          "output_type": "execute_result",
          "data": {
            "text/plain": [
              "0      473\n",
              "1      513\n",
              "2      443\n",
              "3      485\n",
              "4      944\n",
              "      ... \n",
              "506    910\n",
              "507    930\n",
              "508    920\n",
              "509    928\n",
              "510    911\n",
              "Name: StartTime, Length: 511, dtype: int64"
            ]
          },
          "metadata": {},
          "execution_count": 55
        }
      ]
    },
    {
      "cell_type": "markdown",
      "source": [
        "##Join Schools Data With Buses\n",
        "School data is non government school data"
      ],
      "metadata": {
        "id": "XL5CJ6P8jDSx"
      }
    },
    {
      "cell_type": "markdown",
      "source": [
        "Open all school data files and find difference in columns"
      ],
      "metadata": {
        "id": "6ZjHtVP362d2"
      }
    },
    {
      "cell_type": "code",
      "source": [
        "gov_college = pd.read_csv('/content/drive/MyDrive/CSV/Schools_Government_College.csv')\n",
        "gov_primary = pd.read_csv('/content/drive/MyDrive/CSV/Schools_Government_Primary.csv')\n",
        "gov_secondary = pd.read_csv('/content/drive/MyDrive/CSV/Schools_Government_Secondary.csv')\n",
        "non_gov = pd.read_csv('/content/drive/MyDrive/CSV/Schools_Non_Government.csv')\n",
        "gov_other = pd.read_csv('/content/drive/MyDrive/CSV/Schools_Other_Government_Schools.csv')\n",
        "schools_list = [gov_college, gov_primary, gov_secondary, non_gov, gov_other]\n",
        "out = {}\n",
        "for s in schools_list:\n",
        "  for col in s.columns:\n",
        "    if col in out.keys():\n",
        "      out[col] += 1\n",
        "    else:\n",
        "      out[col] = 1\n",
        "print(out)"
      ],
      "metadata": {
        "colab": {
          "base_uri": "https://localhost:8080/"
        },
        "id": "p6SuH8lI3-uc",
        "outputId": "50fb0ca2-eabc-4357-d2f8-14e37f783bea"
      },
      "execution_count": 56,
      "outputs": [
        {
          "output_type": "stream",
          "name": "stdout",
          "text": [
            "{'X': 5, 'Y': 5, 'GOVERNMENT': 5, 'TYPE': 5, 'PEA': 5, 'SECTION': 5, 'BLOCK': 5, 'STREET': 5, 'SUBURB': 5, 'STATE': 5, 'POSTCODE': 5, 'SCHOOLCODE': 5, 'DESCRIPTION': 5, 'WEBSITE': 5, 'EMAIL': 5, 'PHONE': 5, 'DATASET': 5, 'OBJECTID': 5, 'SCHOOL_NAME': 5, 'BLOCK_KEY': 5, 'DEEWR_SCHOOL_ID': 5, 'MY_SCHOOL_WEBSITE': 5, 'LEVEL_': 5, 'APPLY_NOW': 5, 'STATUS': 5, 'OBJECTID_1': 2}\n"
          ]
        }
      ]
    },
    {
      "cell_type": "markdown",
      "source": [
        "Delete object_id1 columns"
      ],
      "metadata": {
        "id": "wuV1zg7n7HM2"
      }
    },
    {
      "cell_type": "code",
      "source": [
        "for s in schools_list:\n",
        "  try:\n",
        "    s = s.drop('OBJECTID_1')\n",
        "  except:\n",
        "    pass"
      ],
      "metadata": {
        "id": "1GlJ9__y7_Kb"
      },
      "execution_count": 57,
      "outputs": []
    },
    {
      "cell_type": "markdown",
      "source": [
        "Join all schools\n"
      ],
      "metadata": {
        "id": "qBcIfROG8csz"
      }
    },
    {
      "cell_type": "code",
      "source": [
        "schools = pd.concat(schools_list)\n",
        "\n",
        "schools = schools[['SCHOOL_NAME', 'SUBURB', 'TYPE', 'X', 'Y', 'GOVERNMENT']]\n",
        "\n",
        "schools['School Name'] = schools['SCHOOL_NAME']\n",
        "\n",
        "schools = schools.drop('SCHOOL_NAME', axis = 1)\n",
        "\n",
        "buses = buses.merge(schools, on = 'School Name', how = 'inner')\n",
        "\n",
        "print(buses.head())"
      ],
      "metadata": {
        "id": "2feaq_yIjHsU",
        "outputId": "3c5205c0-f5a6-417e-8404-a0c0f962eed4",
        "colab": {
          "base_uri": "https://localhost:8080/"
        }
      },
      "execution_count": 58,
      "outputs": [
        {
          "output_type": "stream",
          "name": "stdout",
          "text": [
            "   RouteNumber  Shift  StartTime VehicleStyle  \\\n",
            "0         1001   1550        473         Euro   \n",
            "1         1002   1041        513         IRIS   \n",
            "2         1001   1358        485         Euro   \n",
            "3         1002   1605        944         Euro   \n",
            "4         1003   1412        945         Euro   \n",
            "\n",
            "                                         Description  \\\n",
            "0                   Forde, Bonner, Amaroo, Ngunnawal   \n",
            "1                           Gungahlin Place Non Stop   \n",
            "2                          Bonner, Amaroo, Ngunnawal   \n",
            "3                           Gungahlin Place Non Stop   \n",
            "4  Gungahlin, Throsby, Harrison, Franklin, Palmer...   \n",
            "\n",
            "                       Address              School Name  \\\n",
            "0  1021 Gungahlin Dr, Nicholls  St John Paul II College   \n",
            "1  1021 Gungahlin Dr, Nicholls  St John Paul II College   \n",
            "2  1021 Gungahlin Dr, Nicholls  St John Paul II College   \n",
            "3  1021 Gungahlin Dr, Nicholls  St John Paul II College   \n",
            "4  1021 Gungahlin Dr, Nicholls  St John Paul II College   \n",
            "\n",
            "                                               Route    SUBURB   TYPE  \\\n",
            "0                 [Forde, Bonner, Amaroo, Ngunnawal]  NICHOLLS  Other   \n",
            "1                                        [Gungahlin]  NICHOLLS  Other   \n",
            "2                        [Bonner, Amaroo, Ngunnawal]  NICHOLLS  Other   \n",
            "3                                        [Gungahlin]  NICHOLLS  Other   \n",
            "4  [Gungahlin, Throsby, Harrison, Franklin, Palme...  NICHOLLS  Other   \n",
            "\n",
            "             X             Y GOVERNMENT  \n",
            "0  691326.9118  6.105274e+06         No  \n",
            "1  691326.9118  6.105274e+06         No  \n",
            "2  691326.9118  6.105274e+06         No  \n",
            "3  691326.9118  6.105274e+06         No  \n",
            "4  691326.9118  6.105274e+06         No  \n"
          ]
        }
      ]
    },
    {
      "cell_type": "code",
      "source": [
        "buses.columns"
      ],
      "metadata": {
        "id": "7TTjSWvHk1PX",
        "colab": {
          "base_uri": "https://localhost:8080/"
        },
        "outputId": "a27073b6-5bf0-49ed-dcc1-d8dd80bb9365"
      },
      "execution_count": 59,
      "outputs": [
        {
          "output_type": "execute_result",
          "data": {
            "text/plain": [
              "Index(['RouteNumber', 'Shift', 'StartTime', 'VehicleStyle', 'Description',\n",
              "       'Address', 'School Name', 'Route', 'SUBURB', 'TYPE', 'X', 'Y',\n",
              "       'GOVERNMENT'],\n",
              "      dtype='object')"
            ]
          },
          "metadata": {},
          "execution_count": 59
        }
      ]
    },
    {
      "cell_type": "markdown",
      "source": [
        "## Data Exploration"
      ],
      "metadata": {
        "id": "6rStX3_XiOiD"
      }
    },
    {
      "cell_type": "markdown",
      "source": [
        "Explore Government vs Non Government Schools of vehicles styles\n",
        "\n",
        "\n"
      ],
      "metadata": {
        "id": "rXmKU4SQlC1z"
      }
    },
    {
      "cell_type": "code",
      "source": [
        "import matplotlib.pyplot as plt\n",
        "import matplotlib.patches as mpatches\n",
        "import seaborn as sns\n",
        "\n",
        "counts = buses.groupby(['GOVERNMENT']).size()\n",
        "print(counts)\n",
        "fig, ax = plt.subplots()\n",
        "plt.rcParams[\"figure.figsize\"] = (2, 5)\n",
        "bus_bar = ax.bar( x= counts.index.sort_values(ascending = False), height = counts.sort_values(ascending = True).array,\n",
        "                    color = ['g', 'r'], width = 0.9, linewidth = 0)\n",
        "plt.xlabel('Government School Route?')\n",
        "plt.ylabel('Total #')\n",
        "plt.text(0,160,'151', horizontalalignment='center',    verticalalignment='center', style = 'italic')\n",
        "plt.text(1,343,'336', horizontalalignment='center',    verticalalignment='center', style = 'italic')\n",
        "\n",
        "\n"
      ],
      "metadata": {
        "colab": {
          "base_uri": "https://localhost:8080/",
          "height": 423
        },
        "id": "jf1CzUA6igFj",
        "outputId": "c395cd04-0e63-4a11-8312-34058809a4c5"
      },
      "execution_count": 60,
      "outputs": [
        {
          "output_type": "stream",
          "name": "stdout",
          "text": [
            "GOVERNMENT\n",
            "No     336\n",
            "Yes    151\n",
            "dtype: int64\n"
          ]
        },
        {
          "output_type": "execute_result",
          "data": {
            "text/plain": [
              "Text(1, 343, '336')"
            ]
          },
          "metadata": {},
          "execution_count": 60
        },
        {
          "output_type": "display_data",
          "data": {
            "text/plain": [
              "<Figure size 288x360 with 1 Axes>"
            ],
            "image/png": "[encoded data removed]"
          },
          "metadata": {
            "needs_background": "light"
          }
        }
      ]
    },
    {
      "cell_type": "code",
      "source": [
        "school_info = buses[['School Name', 'GOVERNMENT']]\n",
        "school_info.drop_duplicates(keep = 'first', inplace = True)\n",
        "\n",
        "school_amounts = school_info.groupby(['GOVERNMENT']).size()\n",
        "school_amounts.sort_values( axis = 0, ascending = True, inplace = True)\n",
        "\n",
        "fig, ax = plt.subplots()\n",
        "plt.rcParams[\"figure.figsize\"] = (4, 5)\n",
        "\n",
        "ax.bar( x = school_amounts.index.sort_values( ascending = False),\n",
        "       height = school_amounts.array,\n",
        "       color = ['g', 'r'], width = 0.9)\n",
        "\n",
        "ax.text(1,29.5,'29', fontsize = 11, style = 'italic',horizontalalignment='center',    verticalalignment='center')\n",
        "ax.text(0, 29.5, '28', fontsize = 11, style = 'italic', horizontalalignment='center',    verticalalignment='center')\n",
        "plt.xlabel('Government School?')\n",
        "plt.ylabel('Total #')\n",
        "plt.title('School Totals')\n",
        "plt.plot()\n"
      ],
      "metadata": {
        "colab": {
          "base_uri": "https://localhost:8080/",
          "height": 474
        },
        "id": "h6Hhhc9nydwI",
        "outputId": "8249de9f-abbd-4953-d786-75d90a7054eb"
      },
      "execution_count": 61,
      "outputs": [
        {
          "output_type": "stream",
          "name": "stderr",
          "text": [
            "/usr/local/lib/python3.7/dist-packages/pandas/util/_decorators.py:311: SettingWithCopyWarning: \n",
            "A value is trying to be set on a copy of a slice from a DataFrame\n",
            "\n",
            "See the caveats in the documentation: https://pandas.pydata.org/pandas-docs/stable/user_guide/indexing.html#returning-a-view-versus-a-copy\n",
            "  return func(*args, **kwargs)\n"
          ]
        },
        {
          "output_type": "execute_result",
          "data": {
            "text/plain": [
              "[]"
            ]
          },
          "metadata": {},
          "execution_count": 61
        },
        {
          "output_type": "display_data",
          "data": {
            "text/plain": [
              "<Figure size 144x360 with 1 Axes>"
            ],
            "image/png": "[encoded data removed]"
          },
          "metadata": {
            "needs_background": "light"
          }
        }
      ]
    },
    {
      "cell_type": "markdown",
      "source": [
        "Look at most visited schools"
      ],
      "metadata": {
        "id": "7imkfaAsP5fh"
      }
    },
    {
      "cell_type": "markdown",
      "source": [
        "Transform buses data for analysis"
      ],
      "metadata": {
        "id": "P8aphMtmIwDo"
      }
    },
    {
      "cell_type": "code",
      "source": [
        "top_schools = buses.groupby(['School Name']).size().sort_values(ascending = False)[:25]\n",
        "top_schools = pd.DataFrame(top_schools, columns = [ 'Bus Routes'])\n",
        "\n",
        "top_schools_df = schools.merge(top_schools, on = 'School Name', how = 'inner').sort_values(by = 'Bus Routes', ascending = True)"
      ],
      "metadata": {
        "id": "0sY6Lo1pIuYr"
      },
      "execution_count": 62,
      "outputs": []
    },
    {
      "cell_type": "markdown",
      "source": [
        "Plot Data"
      ],
      "metadata": {
        "id": "E2ItuYXsI15H"
      }
    },
    {
      "cell_type": "code",
      "source": [
        "colours = {'Yes':'tab:green', 'No':'tab:red'}\n",
        "fig, ax = plt.subplots()\n",
        "plt.rcParams[\"figure.figsize\"] = (10, 9)\n",
        "top_rides = ax.bar( x = top_schools_df['School Name'], height = top_schools_df['Bus Routes'], color = top_schools_df['GOVERNMENT'].map(colours), width = 0.5)\n",
        "red_patch = mpatches.Patch(color='red', label='No')\n",
        "green_patch = mpatches.Patch(color='green', label='Yes')\n",
        "ax.legend(handles=[ green_patch, red_patch], title = 'Government School?')\n",
        "for i, v in enumerate(top_schools_df['Bus Routes']):\n",
        "  ax.text(i,v+0.7,str(v), fontsize = 11, style = 'italic',horizontalalignment='center',    verticalalignment='center')\n",
        "plt.xticks(rotation = 90)"
      ],
      "metadata": {
        "id": "ZclL7rPNlpjZ",
        "outputId": "52f7ca12-3218-4e7b-80a3-961f620e7f49",
        "colab": {
          "base_uri": "https://localhost:8080/",
          "height": 974
        }
      },
      "execution_count": 63,
      "outputs": [
        {
          "output_type": "execute_result",
          "data": {
            "text/plain": [
              "([0,\n",
              "  1,\n",
              "  2,\n",
              "  3,\n",
              "  4,\n",
              "  5,\n",
              "  6,\n",
              "  7,\n",
              "  8,\n",
              "  9,\n",
              "  10,\n",
              "  11,\n",
              "  12,\n",
              "  13,\n",
              "  14,\n",
              "  15,\n",
              "  16,\n",
              "  17,\n",
              "  18,\n",
              "  19,\n",
              "  20,\n",
              "  21,\n",
              "  22,\n",
              "  23,\n",
              "  24],\n",
              " <a list of 25 Text major ticklabel objects>)"
            ]
          },
          "metadata": {},
          "execution_count": 63
        },
        {
          "output_type": "display_data",
          "data": {
            "text/plain": [
              "<Figure size 288x360 with 1 Axes>"
            ],
            "image/png": "[encoded data removed]"
          },
          "metadata": {
            "needs_background": "light"
          }
        }
      ]
    },
    {
      "cell_type": "markdown",
      "source": [
        "###Schools Distribution"
      ],
      "metadata": {
        "id": "cRWckSFyUG6_"
      }
    },
    {
      "cell_type": "code",
      "source": [
        "fig, (ax1, ax2) = plt.subplots(1,2)\n",
        "gov = schools['GOVERNMENT'] == 'Yes'\n",
        "non_gov = schools['GOVERNMENT'] == 'No'\n",
        "count_gov_schools = schools[gov].groupby('TYPE').size()\n",
        "count_non_gov_schools = schools[non_gov].groupby('TYPE').size()\n",
        "\n",
        "pi1 = ax1.pie( x = count_gov_schools.array, labels = count_gov_schools.index)\n",
        "pi2 = ax2.pie( x = count_non_gov_schools.array, labels = count_non_gov_schools.index)\n",
        "\n",
        "ax1.set_title('Government School Types')\n",
        "ax2.set_title('Non Government School Types')"
      ],
      "metadata": {
        "colab": {
          "base_uri": "https://localhost:8080/",
          "height": 318
        },
        "id": "JcMC34j-RZCu",
        "outputId": "7b085637-e358-4749-9afb-c82429007b1a"
      },
      "execution_count": 64,
      "outputs": [
        {
          "output_type": "execute_result",
          "data": {
            "text/plain": [
              "Text(0.5, 1.0, 'Non Government School Types')"
            ]
          },
          "metadata": {},
          "execution_count": 64
        },
        {
          "output_type": "display_data",
          "data": {
            "text/plain": [
              "<Figure size 720x648 with 2 Axes>"
            ],
            "image/png": "[encoded data removed]"
          },
          "metadata": {}
        }
      ]
    },
    {
      "cell_type": "markdown",
      "source": [
        "Compare Times of Bus Riding"
      ],
      "metadata": {
        "id": "8R1Mj77SUP8C"
      }
    },
    {
      "cell_type": "code",
      "source": [
        "fig, (ax1, ax2) = plt.subplots(1,2)\n",
        "plt.rcParams[\"figure.figsize\"] = (10, 7)\n",
        "gov = buses['GOVERNMENT'] == 'Yes'\n",
        "non_gov = buses['GOVERNMENT'] == 'No'\n",
        "bins = []\n",
        "for i in range(24):\n",
        "  bins.append(i * 60)\n",
        "time_labels = []\n",
        "for i in range(24):\n",
        "  time_labels.append(i)\n",
        "x_ticks = [0,3,6,9,12,15,18,21]\n",
        "ax1.hist(x = buses[gov]['StartTime'], bins = bins, color = 'Green')\n",
        "ax1.set_xticks([x*60 for x in x_ticks])\n",
        "ax1.set_xticklabels(x_ticks)\n",
        "ax1.set_title('Government Bus Start Times')\n",
        "ax2.hist(x = buses[non_gov]['StartTime'], bins = bins, color = 'Red')\n",
        "ax2.set_xticks([x*60 for x in x_ticks])\n",
        "ax2.set_xticklabels(x_ticks)\n",
        "ax2.set_title('Non Government Bus Start Times')\n",
        "\n"
      ],
      "metadata": {
        "colab": {
          "base_uri": "https://localhost:8080/",
          "height": 570
        },
        "id": "XF2tRz06UPrt",
        "outputId": "0b1a9709-4ebb-4437-e9fe-e4dc1df9bc80"
      },
      "execution_count": 65,
      "outputs": [
        {
          "output_type": "execute_result",
          "data": {
            "text/plain": [
              "Text(0.5, 1.0, 'Non Government Bus Start Times')"
            ]
          },
          "metadata": {},
          "execution_count": 65
        },
        {
          "output_type": "display_data",
          "data": {
            "text/plain": [
              "<Figure size 720x648 with 2 Axes>"
            ],
            "image/png": "[encoded data removed]"
          },
          "metadata": {
            "needs_background": "light"
          }
        }
      ]
    },
    {
      "cell_type": "markdown",
      "source": [
        "Look at primary schools"
      ],
      "metadata": {
        "id": "uNSG5Gr7NLJE"
      }
    },
    {
      "cell_type": "code",
      "source": [
        "primary = buses[buses['TYPE'] == 'Primary'].groupby(['School Name']).size().sort_values(ascending = False)\n",
        "primary = pd.DataFrame(primary,  columns = [ 'Bus Routes'])\n",
        "\n",
        "primary_df = schools.merge(primary, on = 'School Name', how = 'inner').sort_values(by = 'Bus Routes', ascending = True)\n",
        "\n",
        "colours = {'Yes':'tab:green', 'No':'tab:red'}\n",
        "fig, ax = plt.subplots()\n",
        "plt.rcParams[\"figure.figsize\"] = (10, 9)\n",
        "top_rides = ax.bar( x = primary_df['School Name'], height = primary_df['Bus Routes'], color = primary_df['GOVERNMENT'].map(colours), width = 0.5)\n",
        "red_patch = mpatches.Patch(color='red', label='No')\n",
        "green_patch = mpatches.Patch(color='green', label='Yes')\n",
        "ax.legend(handles=[ green_patch, red_patch], title = 'Government School?')\n",
        "for i, v in enumerate(primary_df['Bus Routes']):\n",
        "  ax.text(i,v+0.2,str(v), fontsize = 11, style = 'italic',horizontalalignment='center',    verticalalignment='center')\n",
        "plt.xticks(rotation = 90)\n"
      ],
      "metadata": {
        "colab": {
          "base_uri": "https://localhost:8080/",
          "height": 622
        },
        "id": "H979HmO_NYc1",
        "outputId": "7625afb3-e569-4ee3-c580-cd962818fa39"
      },
      "execution_count": 66,
      "outputs": [
        {
          "output_type": "execute_result",
          "data": {
            "text/plain": [
              "([0, 1, 2, 3, 4, 5, 6, 7, 8, 9, 10, 11, 12, 13, 14, 15],\n",
              " <a list of 16 Text major ticklabel objects>)"
            ]
          },
          "metadata": {},
          "execution_count": 66
        },
        {
          "output_type": "display_data",
          "data": {
            "text/plain": [
              "<Figure size 720x504 with 1 Axes>"
            ],
            "image/png": "[encoded data removed]"
          },
          "metadata": {
            "needs_background": "light"
          }
        }
      ]
    },
    {
      "cell_type": "markdown",
      "source": [
        "Create Model and Prepare Data for Learning"
      ],
      "metadata": {
        "id": "xlEEKBuoFWKR"
      }
    },
    {
      "cell_type": "code",
      "source": [
        "buses.info()"
      ],
      "metadata": {
        "id": "HsB36KWcFy0N",
        "outputId": "1c747276-0714-49d2-df96-5d93c64175c3",
        "colab": {
          "base_uri": "https://localhost:8080/"
        }
      },
      "execution_count": 67,
      "outputs": [
        {
          "output_type": "stream",
          "name": "stdout",
          "text": [
            "<class 'pandas.core.frame.DataFrame'>\n",
            "Int64Index: 487 entries, 0 to 486\n",
            "Data columns (total 13 columns):\n",
            " #   Column        Non-Null Count  Dtype  \n",
            "---  ------        --------------  -----  \n",
            " 0   RouteNumber   487 non-null    int64  \n",
            " 1   Shift         487 non-null    int64  \n",
            " 2   StartTime     487 non-null    int64  \n",
            " 3   VehicleStyle  487 non-null    object \n",
            " 4   Description   487 non-null    object \n",
            " 5   Address       487 non-null    object \n",
            " 6   School Name   487 non-null    object \n",
            " 7   Route         487 non-null    object \n",
            " 8   SUBURB        487 non-null    object \n",
            " 9   TYPE          487 non-null    object \n",
            " 10  X             487 non-null    float64\n",
            " 11  Y             487 non-null    float64\n",
            " 12  GOVERNMENT    487 non-null    object \n",
            "dtypes: float64(2), int64(3), object(8)\n",
            "memory usage: 53.3+ KB\n"
          ]
        }
      ]
    },
    {
      "cell_type": "markdown",
      "source": [
        "Transform Columns\n",
        "(Categorical -> Numerical)"
      ],
      "metadata": {
        "id": "05cNorg0GMTc"
      }
    },
    {
      "cell_type": "code",
      "source": [
        "data = buses\n",
        "\n",
        "route_suburbs = set()\n",
        "for l in data['Route']:\n",
        "  for suburb in l:\n",
        "    route_suburbs.add(suburb)\n",
        "\n",
        "for suburb in route_suburbs:\n",
        "  f = lambda x: 1 if suburb in x else 0\n",
        "  data['route_'+ suburb] = data['Route'].apply(lambda x: f(x))\n",
        "\n",
        "for suburb in pd.unique(data['SUBURB']):\n",
        "  f = lambda x: 1 if suburb in x else 0\n",
        "  data['school_'+ suburb] = data['Route'].apply(lambda x: f(x))\n",
        "\n",
        "for style in pd.unique(data['VehicleStyle']):\n",
        "  f = lambda x: 1 if style in x else 0\n",
        "  data['VStyle_' + style] = data['VehicleStyle'].apply(lambda x: f(x))"
      ],
      "metadata": {
        "id": "KO6gg4blF_Cy",
        "outputId": "220f4939-91fb-400f-99da-380c09a9ec95",
        "colab": {
          "base_uri": "https://localhost:8080/"
        }
      },
      "execution_count": 68,
      "outputs": [
        {
          "output_type": "stream",
          "name": "stderr",
          "text": [
            "/usr/local/lib/python3.7/dist-packages/ipykernel_launcher.py:14: PerformanceWarning: DataFrame is highly fragmented.  This is usually the result of calling `frame.insert` many times, which has poor performance.  Consider joining all columns at once using pd.concat(axis=1) instead.  To get a de-fragmented frame, use `newframe = frame.copy()`\n",
            "  \n",
            "/usr/local/lib/python3.7/dist-packages/ipykernel_launcher.py:18: PerformanceWarning: DataFrame is highly fragmented.  This is usually the result of calling `frame.insert` many times, which has poor performance.  Consider joining all columns at once using pd.concat(axis=1) instead.  To get a de-fragmented frame, use `newframe = frame.copy()`\n"
          ]
        }
      ]
    },
    {
      "cell_type": "markdown",
      "source": [
        "Transform Columns (Boolean -> Numerical)"
      ],
      "metadata": {
        "id": "nieMzLMOfqOX"
      }
    },
    {
      "cell_type": "code",
      "source": [
        "data['GOVERNMENT'] = data.GOVERNMENT.apply(lambda x: 1 if x == 'Yes' else -1 )\n",
        "\n",
        "data['Non Stop']  = data['Route'].apply(lambda x: 1 if len(x) == 1 else 0)"
      ],
      "metadata": {
        "id": "AnxlzXl9fvgu",
        "outputId": "066bbd7e-0bc4-4c2a-8681-a1ceec0410ff",
        "colab": {
          "base_uri": "https://localhost:8080/"
        }
      },
      "execution_count": 69,
      "outputs": [
        {
          "output_type": "stream",
          "name": "stderr",
          "text": [
            "/usr/local/lib/python3.7/dist-packages/ipykernel_launcher.py:3: PerformanceWarning: DataFrame is highly fragmented.  This is usually the result of calling `frame.insert` many times, which has poor performance.  Consider joining all columns at once using pd.concat(axis=1) instead.  To get a de-fragmented frame, use `newframe = frame.copy()`\n",
            "  This is separate from the ipykernel package so we can avoid doing imports until\n"
          ]
        }
      ]
    },
    {
      "cell_type": "code",
      "source": [
        "#change time to whether started in morning or afternoon"
      ],
      "metadata": {
        "id": "YybzW4lIkG5K"
      },
      "execution_count": null,
      "outputs": []
    },
    {
      "cell_type": "markdown",
      "source": [
        "Drop Unnessecary Data Columns"
      ],
      "metadata": {
        "id": "n7c3ITAVgJWo"
      }
    },
    {
      "cell_type": "code",
      "source": [
        "print(data.columns[:14])\n",
        "data.drop([  'Route', 'SUBURB', 'TYPE', 'Address', 'Description',\n",
        "           'VehicleStyle', 'Shift', 'RouteNumber'], inplace = True, axis = 1)"
      ],
      "metadata": {
        "id": "Xxs7cp4IcIuD",
        "outputId": "d62155fb-89d8-4b76-fbca-afdbf9464681",
        "colab": {
          "base_uri": "https://localhost:8080/"
        }
      },
      "execution_count": 70,
      "outputs": [
        {
          "output_type": "stream",
          "name": "stdout",
          "text": [
            "Index(['RouteNumber', 'Shift', 'StartTime', 'VehicleStyle', 'Description',\n",
            "       'Address', 'School Name', 'Route', 'SUBURB', 'TYPE', 'X', 'Y',\n",
            "       'GOVERNMENT', 'route_Isaacs'],\n",
            "      dtype='object')\n"
          ]
        }
      ]
    },
    {
      "cell_type": "markdown",
      "source": [
        "Group Columns by Schools"
      ],
      "metadata": {
        "id": "VhELJbtji5YP"
      }
    },
    {
      "cell_type": "code",
      "source": [
        "# Group by sum of boolean columns (Route Destinations, Starting Suburbs,\n",
        "# Vehicle Styles), min start time, max start time, \n",
        "g_data = data.groupby(['School Name'])\n"
      ],
      "metadata": {
        "id": "pEQe-3Wvi5rt"
      },
      "execution_count": null,
      "outputs": []
    }
  ]
}